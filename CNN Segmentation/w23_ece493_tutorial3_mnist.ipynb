{
  "cells": [
    {
      "cell_type": "markdown",
      "metadata": {
        "id": "0mEkNUAfqxuL"
      },
      "source": [
        "# First import pytorch requirements\n",
        "\n",
        "Usually you important everything at the top of your python file or jupyter notebook but I have explanations as we go through this and only import the minimum requirements."
      ]
    },
    {
      "cell_type": "code",
      "execution_count": 1,
      "metadata": {
        "id": "RSIORhl9qxuN"
      },
      "outputs": [],
      "source": [
        "# pytorch library\n",
        "import torch"
      ]
    },
    {
      "cell_type": "markdown",
      "metadata": {
        "id": "On-dpgUFqxuO"
      },
      "source": [
        "# Load MNIST and verify"
      ]
    },
    {
      "cell_type": "code",
      "execution_count": 2,
      "metadata": {
        "colab": {
          "base_uri": "https://localhost:8080/",
          "height": 680,
          "referenced_widgets": [
            "b7de5cc69e214d7bb1408b8dfcc7625c",
            "0f4858a0e47d49e8a12981ff656563b8",
            "7a5429660dbc4215a12196364e67c573",
            "6b81b0ea637f43be8ac781046f41ef17",
            "90a0965067844a2b846d877efd76db18",
            "e489e36134994f2e92207d529142fcb6",
            "18692e8179fa47b5ad013ce7a01d95e7",
            "cf73387019db4164b97fbe9cb12e61b6",
            "156aff8351f242c7a86b7955dbab6a1f",
            "0cf9db2db1144f5493f3574b9fcc5d2e",
            "cca6a3c69d2b41b288a06172979fc320",
            "15010b2a88114e829b7e1059c1b589bb",
            "38704863e6184f889af69b3ebfd9b317",
            "04e881fa663e4e3ba1e48d84c9dfdef2",
            "dfef3ef3c4864e0495b27ee8c404414f",
            "2f90c0b83a84464c9f64467ef4464381",
            "6d7f4c5409b243169a2ff3788e4ae422",
            "3a4499cc75094e42872da93bd78bdcac",
            "7afb78b3f166483eaf5ff5e4215b1c8e",
            "76558704a9104b00beae20952bbd8216",
            "e68a87723d614e2b9b7280fdc92e7aed",
            "8d7678e1208c4307a441c0ed0995f2e3",
            "62b30682ed354320a879b43d5ffcf0c7",
            "fb2df2843bcb49d18c8bfaf1b647b8d8",
            "342e25d9b45442548e678a43db4d07b2",
            "09447a4cfbc64123a83f52905f9f4c3d",
            "465d344ae0d449fc96328472c199927d",
            "ca8f5b0132b94437bd986790a361c5fe",
            "5dce37aee833456db87a512e32681108",
            "e45de0449c8a4d0dbd61463cb8ac3bf9",
            "ca1219a9c56d4e889e548dfbff03fff2",
            "f704b8f94308439ca99b9d4f29c678da",
            "b7d8f495b2144c9eaf438b978ea2e7cb",
            "4537cf20d1204d468440ce3b1485cc75",
            "3e0ad50e2b214e5cbb71d3e424f74a0c",
            "a0c6b6b726204b14902760a98cc30c83",
            "8b7514af042f40f8a970362f44c837bc",
            "0a032420142a431ea192ed954ed09e5e",
            "4600dde0b0f6446da43f65ec737b251c",
            "d04420a67e42468abcf96c284f6b31b8",
            "38f051e2b3a94a6290256a30a0242898",
            "6f7601aab0dc48e0947fcdbac7e07315",
            "c4e8f9c50dd94359a69821ea3b829b2a",
            "4ce6b0fcd2c94e628926ea3d05e95889"
          ]
        },
        "id": "XzJ6pb6eqxuO",
        "outputId": "5e361eba-9274-474e-b2b0-ca430d3cfab6"
      },
      "outputs": [
        {
          "output_type": "stream",
          "name": "stdout",
          "text": [
            "Downloading http://yann.lecun.com/exdb/mnist/train-images-idx3-ubyte.gz\n",
            "Downloading http://yann.lecun.com/exdb/mnist/train-images-idx3-ubyte.gz to data/MNIST/raw/train-images-idx3-ubyte.gz\n"
          ]
        },
        {
          "output_type": "display_data",
          "data": {
            "text/plain": [
              "  0%|          | 0/9912422 [00:00<?, ?it/s]"
            ],
            "application/vnd.jupyter.widget-view+json": {
              "version_major": 2,
              "version_minor": 0,
              "model_id": "b7de5cc69e214d7bb1408b8dfcc7625c"
            }
          },
          "metadata": {}
        },
        {
          "output_type": "stream",
          "name": "stdout",
          "text": [
            "Extracting data/MNIST/raw/train-images-idx3-ubyte.gz to data/MNIST/raw\n",
            "\n",
            "Downloading http://yann.lecun.com/exdb/mnist/train-labels-idx1-ubyte.gz\n",
            "Downloading http://yann.lecun.com/exdb/mnist/train-labels-idx1-ubyte.gz to data/MNIST/raw/train-labels-idx1-ubyte.gz\n"
          ]
        },
        {
          "output_type": "display_data",
          "data": {
            "text/plain": [
              "  0%|          | 0/28881 [00:00<?, ?it/s]"
            ],
            "application/vnd.jupyter.widget-view+json": {
              "version_major": 2,
              "version_minor": 0,
              "model_id": "15010b2a88114e829b7e1059c1b589bb"
            }
          },
          "metadata": {}
        },
        {
          "output_type": "stream",
          "name": "stdout",
          "text": [
            "Extracting data/MNIST/raw/train-labels-idx1-ubyte.gz to data/MNIST/raw\n",
            "\n",
            "Downloading http://yann.lecun.com/exdb/mnist/t10k-images-idx3-ubyte.gz\n",
            "Downloading http://yann.lecun.com/exdb/mnist/t10k-images-idx3-ubyte.gz to data/MNIST/raw/t10k-images-idx3-ubyte.gz\n"
          ]
        },
        {
          "output_type": "display_data",
          "data": {
            "text/plain": [
              "  0%|          | 0/1648877 [00:00<?, ?it/s]"
            ],
            "application/vnd.jupyter.widget-view+json": {
              "version_major": 2,
              "version_minor": 0,
              "model_id": "62b30682ed354320a879b43d5ffcf0c7"
            }
          },
          "metadata": {}
        },
        {
          "output_type": "stream",
          "name": "stdout",
          "text": [
            "Extracting data/MNIST/raw/t10k-images-idx3-ubyte.gz to data/MNIST/raw\n",
            "\n",
            "Downloading http://yann.lecun.com/exdb/mnist/t10k-labels-idx1-ubyte.gz\n",
            "Downloading http://yann.lecun.com/exdb/mnist/t10k-labels-idx1-ubyte.gz to data/MNIST/raw/t10k-labels-idx1-ubyte.gz\n"
          ]
        },
        {
          "output_type": "display_data",
          "data": {
            "text/plain": [
              "  0%|          | 0/4542 [00:00<?, ?it/s]"
            ],
            "application/vnd.jupyter.widget-view+json": {
              "version_major": 2,
              "version_minor": 0,
              "model_id": "4537cf20d1204d468440ce3b1485cc75"
            }
          },
          "metadata": {}
        },
        {
          "output_type": "stream",
          "name": "stdout",
          "text": [
            "Extracting data/MNIST/raw/t10k-labels-idx1-ubyte.gz to data/MNIST/raw\n",
            "\n",
            "Number of training examples: 60000\n",
            "Each with one image and one ground truth (gt) label: 2\n",
            "One image and one label (number)\n",
            "<PIL.Image.Image image mode=L size=28x28 at 0x7F93C4E35CA0>\n",
            "5\n",
            "Lets take a look at the image size\n",
            "(28, 28)\n",
            "Lastly let's verify that the image and gt label match\n"
          ]
        },
        {
          "output_type": "execute_result",
          "data": {
            "text/plain": [
              "<matplotlib.image.AxesImage at 0x7f93c2a8b4c0>"
            ]
          },
          "metadata": {},
          "execution_count": 2
        },
        {
          "output_type": "display_data",
          "data": {
            "text/plain": [
              "<Figure size 72x72 with 1 Axes>"
            ],
            "image/png": "[encoded data removed]"
          },
          "metadata": {
            "needs_background": "light"
          }
        }
      ],
      "source": [
        "# torchvision is a computer vision library that pytorch created for common datasets\n",
        "# https://pytorch.org/docs/stable/torchvision\n",
        "import torchvision\n",
        "# import MNIST loader\n",
        "from torchvision.datasets import MNIST\n",
        "\n",
        "# https://pytorch.org/docs/stable/torchvision/datasets.html#mnist\n",
        "# torchvision.datasets.MNIST(root, train=True, transform=None, target_transform=None, download=False)\n",
        "mnist_train_data = MNIST('data', train=True, download=True)\n",
        "\n",
        "print(\"Number of training examples:\", len(mnist_train_data))\n",
        "print(\"Each with one image and one ground truth (gt) label:\", len(mnist_train_data[0]))\n",
        "\n",
        "print(\"One image and one label (number)\")\n",
        "print(mnist_train_data[0][0])\n",
        "print(mnist_train_data[0][1])\n",
        "\n",
        "print(\"Lets take a look at the image size\")\n",
        "print(mnist_train_data[0][0].size)\n",
        "\n",
        "print(\"Lastly let's verify that the image and gt label match\")\n",
        "import matplotlib.pyplot as plt\n",
        "\n",
        "img, label = mnist_train_data[0]\n",
        "\n",
        "fig = plt.figure(figsize=(1,1))\n",
        "ax1 = fig.add_subplot(1,1,1)\n",
        "plt.title(label)\n",
        "ax1.imshow(img, cmap=\"gray\")"
      ]
    },
    {
      "cell_type": "markdown",
      "metadata": {
        "id": "N61kuLbmqxuO"
      },
      "source": [
        "# Define data augmentations and training data loader"
      ]
    },
    {
      "cell_type": "code",
      "execution_count": 3,
      "metadata": {
        "colab": {
          "base_uri": "https://localhost:8080/",
          "height": 118
        },
        "id": "S2nnAiu9qxuP",
        "outputId": "a1e2f531-51da-46c8-f2fb-de46cd4e1c43"
      },
      "outputs": [
        {
          "output_type": "display_data",
          "data": {
            "text/plain": [
              "<Figure size 72x72 with 1 Axes>"
            ],
            "image/png": "[encoded data removed]"
          },
          "metadata": {
            "needs_background": "light"
          }
        }
      ],
      "source": [
        "# import data transforms\n",
        "# https://pytorch.org/docs/stable/torchvision/transforms.html\n",
        "# Take note of transforms.ToPILImage and transforms.ToTensor\n",
        "import torchvision.transforms as transforms\n",
        "\n",
        "# Data augmentation is a technique where we transform the examples randomly in a way\n",
        "# that doesn't change its label, which artificially augments the amount of data we have.\n",
        "\n",
        "# See here for a list of augmentations available: https://pytorch.org/vision/stable/transforms.html\n",
        "# What transforms make sense for this data?\n",
        "# - ColorJitter? No, the image is in grayscale\n",
        "# - RandomFlip? No, it won't look like a number anymore\n",
        "# - RandomRotation? Yes, numbers can be slightly slanted\n",
        "# - Normalize? Yes, you should always normalize your data\n",
        "\n",
        "# Use Compose method to create a sequential pipeline of transformations\n",
        "# Note that most transforms expect a PIL image, then ToTensor converts it to\n",
        "# PyTorch tensor convention and Normalize expects a tensor\n",
        "mnist_train_tf = transforms.Compose([\n",
        "    transforms.RandomRotation([-10, 10]),\n",
        "    transforms.ToTensor(),\n",
        "    transforms.Normalize((0.1307,), (0.3081,)) # Supplied with dataset (mean, std)\n",
        "])\n",
        "\n",
        "# Let's test out the transform (without ToTensor)\n",
        "img_tfed = transforms.RandomRotation([90, 90])(img)\n",
        "# Display the image\n",
        "fig = plt.figure(figsize=(1,1))\n",
        "ax1 = fig.add_subplot(1,1,1)\n",
        "plt.title(label)\n",
        "ax1.imshow(img_tfed, cmap=\"gray\")\n",
        "\n",
        "# Dataset class is responsible for loading each dataset example\n",
        "# Will often need custom Dataset classes when working with new datasets\n",
        "training_set = MNIST('data', train=True, download=True, transform=mnist_train_tf)\n",
        "\n",
        "# DataLoader is responsible for combining examples in batches to increase training speed\n",
        "# https://pytorch.org/docs/stable/data.html#torch.utils.data.DataLoader\n",
        "from torch.utils.data import DataLoader\n",
        "# epoch = one iteration over the entire dataset\n",
        "# batch size = samples per batch within an epoch\n",
        "# shuffle = Set to True if your data is ordered\n",
        "# num_workers = number of processes to use when dataloading, set higher if you have many cpu cores\n",
        "train_loader = DataLoader(training_set, batch_size=16, shuffle=True, num_workers=2)"
      ]
    },
    {
      "cell_type": "markdown",
      "source": [
        "# Define validation data loader"
      ],
      "metadata": {
        "id": "fy95Odzb7aDt"
      }
    },
    {
      "cell_type": "code",
      "source": [
        "# Validation augmentations should not modify the image \n",
        "mnist_val_tf = transforms.Compose([\n",
        "    transforms.ToTensor(),\n",
        "    transforms.Normalize((0.1307,), (0.3081,)) # Supplied with dataset (mean, std)\n",
        "])\n",
        "val_set = MNIST('data', train=False, download=True, transform=mnist_val_tf)\n",
        "\n",
        "# Don't need to shuffle since we are calculating statistics over full val dataset\n",
        "val_loader = DataLoader(val_set, batch_size=16, shuffle=False, num_workers=2)"
      ],
      "metadata": {
        "id": "xOWyQtgs7cwE"
      },
      "execution_count": 4,
      "outputs": []
    },
    {
      "cell_type": "markdown",
      "metadata": {
        "id": "NJjR5CbJqxuP"
      },
      "source": [
        "# Important concepts to remember before creating the neural network"
      ]
    },
    {
      "cell_type": "markdown",
      "metadata": {
        "id": "VhXv9G63qxuP"
      },
      "source": [
        "Kernel - Convolution: https://en.wikipedia.org/wiki/Kernel_(image_processing)#Convolution\n",
        "- Weighted sum around a pixel\n",
        "- nn.Conv2d(in_channels, out_channels, kernel_size, stride=1, padding=0)\n",
        "- nn.Conv2d(1, 32, 3)\n",
        "\n",
        "Activation functions: https://en.wikipedia.org/wiki/Activation_function\n",
        "- Logistic - https://en.wikipedia.org/wiki/Logistic_function\n",
        "- ReLU - https://en.wikipedia.org/wiki/Rectifier_(neural_networks)\n",
        "\n",
        "Pooling: https://pytorch.org/docs/stable/nn.functional.html#pooling-functions\n",
        "- Downsample the feature map\n",
        "- Common pooling functions: average and max\n",
        "\n",
        "Dropout: https://pytorch.org/docs/stable/nn.html#dropout-layers\n",
        "- Randomly deactivates some weights during training\n",
        "- Reduces overfitting\n",
        "- The dropout paper https://www.cs.toronto.edu/~hinton/absps/JMLRdropout.pdf\n",
        "\n",
        "Fully connected layers\n",
        "- First flatten the tensor\n",
        "- Goal is to classify the image based on given feature maps\n",
        "- Eventual output is the number of classes\n",
        "\n",
        "Final output layer\n",
        "- We typically output the raw predictions from the final linear layer (called logits)\n",
        "- For predictions, we can just take the argmax of the logits or pass the logits through a softmax and sample from the distribution\n",
        "- We can use the CrossEntropyLoss as our loss function which expects logits as input since it has the softmax built-in\n",
        "\n",
        "Visualizing and Understanding Convolutional Networks\n",
        "https://arxiv.org/abs/1311.2901\n",
        "- Lines -> Lines/Curves/Corners -> Patterns -> Objects\n",
        "\n",
        "Even more detail:\n",
        "\n",
        "http://cs231n.github.io/convolutional-networks/\n",
        "\n",
        "https://en.wikipedia.org/wiki/Convolutional_neural_network#Design"
      ]
    },
    {
      "cell_type": "markdown",
      "metadata": {
        "id": "iV8qHyesqxuQ"
      },
      "source": [
        "# Create the neural network"
      ]
    },
    {
      "cell_type": "code",
      "execution_count": 5,
      "metadata": {
        "colab": {
          "base_uri": "https://localhost:8080/"
        },
        "id": "AIWbhaXEqxuQ",
        "outputId": "51af15c3-8d2e-4a70-bde9-1db85e995cd9"
      },
      "outputs": [
        {
          "output_type": "stream",
          "name": "stdout",
          "text": [
            "Using device: cuda\n",
            "torch.Size([16, 10])\n"
          ]
        }
      ],
      "source": [
        "# neural network layers (Conv2d, Linear, etc.) that will be trained\n",
        "# https://pytorch.org/docs/stable/nn.html\n",
        "import torch.nn as nn\n",
        "# Many functions (convolution, pooling, activation, etc.)\n",
        "# https://pytorch.org/docs/stable/nn.functional.html\n",
        "import torch.nn.functional as F\n",
        "\n",
        "# See https://pytorch.org/tutorials/beginner/blitz/cifar10_tutorial.html for more classification examples\n",
        "\n",
        "class Net(nn.Module):\n",
        "    def __init__(self):\n",
        "        super(Net, self).__init__()\n",
        "        # Define the layers\n",
        "        self.conv1 = nn.Conv2d(in_channels=1, out_channels=32, kernel_size=3, stride=1)\n",
        "        self.conv2 = nn.Conv2d(in_channels=32, out_channels=64, kernel_size=3, stride=1)\n",
        "        self.dropout = nn.Dropout(p=0.5)\n",
        "        self.fc1 = nn.Linear(in_features=9216, out_features=128)\n",
        "        self.fc2 = nn.Linear(in_features=128, out_features=10)\n",
        "\n",
        "    def forward(self, x):\n",
        "        # It is useful to print the shape of each tensor in your model when designing it\n",
        "        # Just add print(x.shape) in between lines\n",
        "        # Initial x shape: torch.Size([16, 1, 28, 28])\n",
        "        # 16 = batch_size\n",
        "        # 1 = number of channels (Greyscale will have 1, RGB with have 3)\n",
        "        # 28 = height\n",
        "        # 28 = width\n",
        "        x = self.conv1(x)       # torch.Size([16, 32, 26, 26])\n",
        "        x = F.relu(x)           # torch.Size([16, 32, 26, 26])\n",
        "        x = self.conv2(x)       # torch.Size([16, 64, 24, 24])\n",
        "        x = F.max_pool2d(x, 2)  # torch.Size([16, 64, 12, 12])\n",
        "        x = torch.flatten(x, 1) # torch.Size([16, 9216])\n",
        "        x = self.fc1(x)         # torch.Size([16, 128])\n",
        "        x = F.relu(x)           # torch.Size([16, 128])\n",
        "        x = self.dropout(x)    # torch.Size([16, 128])\n",
        "        x = self.fc2(x)         # torch.Size([16, 10])\n",
        "        return x\n",
        "\n",
        "use_cuda = torch.cuda.is_available()\n",
        "device = torch.device(\"cuda\" if use_cuda else \"cpu\")\n",
        "print(f\"Using device: {device}\")\n",
        "# Overide device when testing on CPU\n",
        "# device = 'cpu'\n",
        "\n",
        "net = Net().to(device)\n",
        "\n",
        "# Test model by feeding in a random tensor\n",
        "random_input = torch.rand(16, 1, 28, 28).to(device)\n",
        "with torch.no_grad():\n",
        "    output = net(random_input)\n",
        "print(output.shape)"
      ]
    },
    {
      "cell_type": "markdown",
      "metadata": {
        "id": "Elng9LAXqxuQ"
      },
      "source": [
        "# Define loss function and optimizer"
      ]
    },
    {
      "cell_type": "code",
      "execution_count": 6,
      "metadata": {
        "id": "VoySTlxAqxuR"
      },
      "outputs": [],
      "source": [
        "# Various optimization algorithms are in:\n",
        "# https://pytorch.org/docs/stable/optim.html\n",
        "import torch.optim as optim\n",
        "\n",
        "# Loss function commonly used for classification\n",
        "# https://pytorch.org/docs/stable/generated/torch.nn.CrossEntropyLoss.html\n",
        "criterion = nn.CrossEntropyLoss()\n",
        "\n",
        "# Stochastic Gradient Descent\n",
        "# https://pytorch.org/docs/stable/optim.html#torch.optim.SGD\n",
        "# lr is the learning rate, how much to change weights based on current values\n",
        "# momentum will change how much to change weights based on previous changes\n",
        "# https://www.quora.com/What-is-the-difference-between-momentum-and-learning-rate\n",
        "optimizer = optim.SGD(net.parameters(), lr=0.001, momentum=0.9)"
      ]
    },
    {
      "cell_type": "markdown",
      "metadata": {
        "id": "ieofFi1HqxuR"
      },
      "source": [
        "# Define training and evaluation loops"
      ]
    },
    {
      "cell_type": "code",
      "source": [
        "def training():\n",
        "    running_loss = 0.0\n",
        "    for batch_idx, (data, target) in enumerate(train_loader):\n",
        "        data, target = data.to(device), target.to(device)\n",
        "\n",
        "        # zero the parameter gradients\n",
        "        optimizer.zero_grad()\n",
        "\n",
        "        # forward + backward + optimize\n",
        "        outputs = net(data)\n",
        "        loss = criterion(outputs, target)\n",
        "        loss.backward()\n",
        "        optimizer.step()\n",
        "\n",
        "        # print statistics\n",
        "        running_loss += loss.item() * data.shape[0]\n",
        "        # if batch_idx % 2000 == 0:    # print every 2000 mini-batches\n",
        "        #     print(f\"[epoch {epoch}, batch {batch_idx}] batch_loss: {loss.item() / data.shape[0]}\")\n",
        "    epoch_loss = running_loss / len(train_loader.dataset)\n",
        "\n",
        "    return epoch_loss\n",
        "\n",
        "def validation():\n",
        "    net.eval()\n",
        "    running_loss = 0.0\n",
        "    num_correct = 0\n",
        "\n",
        "    # Ensures gradients are not being computed during validation\n",
        "    with torch.no_grad():\n",
        "        for data, target in val_loader:\n",
        "            data, target = data.to(device), target.to(device)\n",
        "            outputs = net(data)\n",
        "            loss = criterion(outputs, target)\n",
        "            running_loss += loss.item() * data.shape[0]\n",
        "            pred = outputs.argmax(dim=1, keepdim=True)  # get the index of the max log-probability\n",
        "            num_correct += pred.eq(target.view_as(pred)).sum().item()\n",
        "\n",
        "    epoch_loss = running_loss / len(val_loader.dataset)\n",
        "    accuracy = 100.0 * num_correct / len(val_loader.dataset)\n",
        "\n",
        "    return epoch_loss, accuracy\n"
      ],
      "metadata": {
        "id": "UQcDK_0utHIB"
      },
      "execution_count": 7,
      "outputs": []
    },
    {
      "cell_type": "code",
      "execution_count": 9,
      "metadata": {
        "colab": {
          "base_uri": "https://localhost:8080/"
        },
        "id": "5mlQ6W1DqxuR",
        "outputId": "502aa306-e99c-4e20-ac2b-0fcd02fe5340"
      },
      "outputs": [
        {
          "output_type": "stream",
          "name": "stdout",
          "text": [
            "Epoch 1...\n",
            "Training loss: 0.08374516564277001\n",
            "Validation loss: 0.05103160613476648, accuracy: 98.31\n",
            "Epoch 2...\n",
            "Training loss: 0.053977663861607045\n",
            "Validation loss: 0.04294855640749447, accuracy: 98.52\n",
            "Epoch 3...\n",
            "Training loss: 0.04054052388420678\n",
            "Validation loss: 0.03528346478292951, accuracy: 98.98\n",
            "Epoch 4...\n",
            "Training loss: 0.03400323021126872\n",
            "Validation loss: 0.03270079280001228, accuracy: 98.91\n",
            "Epoch 5...\n",
            "Training loss: 0.028770045057336876\n",
            "Validation loss: 0.03293264869709892, accuracy: 98.93\n",
            "Epoch 6...\n",
            "Training loss: 0.024225660968253213\n",
            "Validation loss: 0.03536029834725705, accuracy: 98.9\n",
            "Epoch 7...\n",
            "Training loss: 0.020980485946702175\n",
            "Validation loss: 0.03302359968823967, accuracy: 98.99\n",
            "Epoch 8...\n",
            "Training loss: 0.017101055546055795\n",
            "Validation loss: 0.031694895714931046, accuracy: 99.11\n",
            "Epoch 9...\n",
            "Training loss: 0.015034343684055299\n",
            "Validation loss: 0.034707926368827614, accuracy: 99.1\n",
            "Epoch 10...\n",
            "Training loss: 0.015210457778554882\n",
            "Validation loss: 0.02983594409633661, accuracy: 99.15\n",
            "Epoch 11...\n",
            "Training loss: 0.013323344382704879\n",
            "Validation loss: 0.030457619206865478, accuracy: 99.07\n",
            "Epoch 12...\n",
            "Training loss: 0.011374695752283939\n",
            "Validation loss: 0.02985002411091341, accuracy: 99.09\n",
            "Epoch 13...\n",
            "Training loss: 0.010604426875465863\n",
            "Validation loss: 0.03071567711417174, accuracy: 99.11\n",
            "Epoch 14...\n",
            "Training loss: 0.008891321327291977\n",
            "Validation loss: 0.03593840346873736, accuracy: 98.99\n",
            "Epoch 15...\n",
            "Training loss: 0.00835768020866597\n",
            "Validation loss: 0.034800876489147564, accuracy: 99.06\n",
            "Epoch 16...\n",
            "Training loss: 0.006922413705273879\n",
            "Validation loss: 0.03168175961982963, accuracy: 99.13\n",
            "Epoch 17...\n",
            "Training loss: 0.00763294537404131\n",
            "Validation loss: 0.031647622253197165, accuracy: 99.11\n",
            "Epoch 18...\n",
            "Training loss: 0.0069409022202030594\n",
            "Validation loss: 0.030345339905324575, accuracy: 99.15\n",
            "Epoch 19...\n",
            "Training loss: 0.006693540236719923\n",
            "Validation loss: 0.03404629150296345, accuracy: 99.08\n",
            "Epoch 20...\n",
            "Training loss: 0.005566919218896976\n",
            "Validation loss: 0.03424786854339665, accuracy: 99.22\n",
            "Finished Training\n"
          ]
        }
      ],
      "source": [
        "num_epochs = 20\n",
        "\n",
        "train_losses = []\n",
        "val_losses = []\n",
        "val_accuracies = []\n",
        "for epoch in range(num_epochs):  # loop over the dataset num_epochs times\n",
        "    print(f\"Epoch {epoch+1}...\")\n",
        "    # Training loop\n",
        "    train_loss = training()\n",
        "    train_losses.append(train_loss)\n",
        "    print(f\"Training loss: {train_loss}\")\n",
        "\n",
        "    # Evaluation loop\n",
        "    val_loss, val_accuracy = validation()\n",
        "    val_losses.append(val_loss)\n",
        "    val_accuracies.append(val_accuracy)\n",
        "    print(f\"Validation loss: {val_loss}, accuracy: {val_accuracy}\")\n",
        "\n",
        "print('Finished Training')"
      ]
    },
    {
      "cell_type": "code",
      "execution_count": 10,
      "metadata": {
        "id": "c9tHDgP4qxuR",
        "colab": {
          "base_uri": "https://localhost:8080/",
          "height": 932
        },
        "outputId": "0efeb559-37de-434a-bae6-adc3e1824e85"
      },
      "outputs": [
        {
          "output_type": "display_data",
          "data": {
            "text/plain": [
              "<Figure size 864x1152 with 2 Axes>"
            ],
            "image/png": "[encoded data removed]"
          },
          "metadata": {
            "needs_background": "light"
          }
        }
      ],
      "source": [
        "# Plot losses and metrics\n",
        "fig, axs = plt.subplots(2, 1, figsize=(12, 16))\n",
        "axs[1].set_xlabel('epoch')\n",
        "axs[0].set_ylabel('cross entropy loss')\n",
        "axs[1].set_ylabel('val accuracy')\n",
        "x_epoch = list(range(1, len(train_losses) + 1))\n",
        "axs[0].plot(x_epoch, train_losses, c='g', label='train_loss')\n",
        "axs[0].plot(x_epoch, val_losses, c='b', label='val_loss')\n",
        "axs[1].plot(x_epoch, val_accuracies, c='b', label='val_acc')\n",
        "axs[0].legend(loc='best')\n",
        "axs[1].legend(loc='best')\n",
        "plt.show()"
      ]
    },
    {
      "cell_type": "markdown",
      "metadata": {
        "id": "BAG7IEKIqxuS"
      },
      "source": [
        "# Visualize some results"
      ]
    },
    {
      "cell_type": "code",
      "execution_count": 11,
      "metadata": {
        "id": "PuYd9ITOqxuS"
      },
      "outputs": [],
      "source": [
        "# Find one correctly classified and one misclassified\n",
        "found_bad = False\n",
        "found_good = False\n",
        "bad_example = None\n",
        "good_example = None\n",
        "\n",
        "with torch.no_grad():\n",
        "    for data, target in val_loader:\n",
        "        data, target = data.to(device), target.to(device)\n",
        "        outputs = net(data)\n",
        "        pred = outputs.argmax(dim=1, keepdim=True)  # get the index of the max log-probability\n",
        "        \n",
        "        for i in range (0, len(target)):\n",
        "            if not found_good and target[i] == pred[i]:\n",
        "                good_example = transforms.ToPILImage()(data[i].cpu()), target[i].cpu().numpy(), pred[i][0].cpu().numpy()\n",
        "                found_good = True\n",
        "            if not found_bad and target[i] != pred[i]:\n",
        "                bad_example = transforms.ToPILImage()(data[i].cpu()), target[i].cpu().numpy(), pred[i][0].cpu().numpy()\n",
        "                found_bad = True\n",
        "        \n",
        "        if found_bad and found_good:\n",
        "            break"
      ]
    },
    {
      "cell_type": "code",
      "execution_count": 12,
      "metadata": {
        "id": "bTi9L37XqxuS",
        "outputId": "0aa29df4-5c7c-4b5e-e54d-f4603f2240d6",
        "colab": {
          "base_uri": "https://localhost:8080/",
          "height": 135
        }
      },
      "outputs": [
        {
          "output_type": "execute_result",
          "data": {
            "text/plain": [
              "<matplotlib.image.AxesImage at 0x7f93b06ee580>"
            ]
          },
          "metadata": {},
          "execution_count": 12
        },
        {
          "output_type": "display_data",
          "data": {
            "text/plain": [
              "<Figure size 72x72 with 1 Axes>"
            ],
            "image/png": "[encoded data removed]"
          },
          "metadata": {
            "needs_background": "light"
          }
        }
      ],
      "source": [
        "img, target_label, pred_label = good_example\n",
        "\n",
        "# Note: Images look strange because they are still normalized. Denormalize them\n",
        "# to get the original looking images.\n",
        "fig = plt.figure(figsize=(1,1))\n",
        "ax1 = fig.add_subplot(1,1,1)\n",
        "plt.title(\"Predicted label: \" + str(pred_label) + \" Target label: \" + str(target_label))\n",
        "ax1.imshow(img, cmap=\"gray\")"
      ]
    },
    {
      "cell_type": "code",
      "execution_count": 13,
      "metadata": {
        "id": "eNNYxG1oqxuS",
        "outputId": "c11a1698-79bf-45ff-9700-f37381fbfcd2",
        "colab": {
          "base_uri": "https://localhost:8080/",
          "height": 135
        }
      },
      "outputs": [
        {
          "output_type": "execute_result",
          "data": {
            "text/plain": [
              "<matplotlib.image.AxesImage at 0x7f93b06b4430>"
            ]
          },
          "metadata": {},
          "execution_count": 13
        },
        {
          "output_type": "display_data",
          "data": {
            "text/plain": [
              "<Figure size 72x72 with 1 Axes>"
            ],
            "image/png": "[encoded data removed]"
          },
          "metadata": {
            "needs_background": "light"
          }
        }
      ],
      "source": [
        "img, target_label, pred_label = bad_example\n",
        "\n",
        "fig = plt.figure(figsize=(1,1))\n",
        "ax1 = fig.add_subplot(1,1,1)\n",
        "plt.title(\"Predicted label: \" + str(pred_label) + \" Target label: \" + str(target_label))\n",
        "ax1.imshow(img, cmap=\"gray\")"
      ]
    },
    {
      "cell_type": "code",
      "execution_count": null,
      "metadata": {
        "id": "FfjmgzCaqxuS"
      },
      "outputs": [],
      "source": []
    }
  ],
  "metadata": {
    "kernelspec": {
      "display_name": "Python 3 (ipykernel)",
      "language": "python",
      "name": "python3"
    },
    "language_info": {
      "codemirror_mode": {
        "name": "ipython",
        "version": 3
      },
      "file_extension": ".py",
      "mimetype": "text/x-python",
      "name": "python",
      "nbconvert_exporter": "python",
      "pygments_lexer": "ipython3",
      "version": "3.9.9"
    },
    "colab": {
      "provenance": []
    },
    "gpuClass": "standard",
    "widgets": {
      "application/vnd.jupyter.widget-state+json": {
        "b7de5cc69e214d7bb1408b8dfcc7625c": {
          "model_module": "@jupyter-widgets/controls",
          "model_name": "HBoxModel",
          "model_module_version": "1.5.0",
          "state": {
            "_dom_classes": [],
            "_model_module": "@jupyter-widgets/controls",
            "_model_module_version": "1.5.0",
            "_model_name": "HBoxModel",
            "_view_count": null,
            "_view_module": "@jupyter-widgets/controls",
            "_view_module_version": "1.5.0",
            "_view_name": "HBoxView",
            "box_style": "",
            "children": [
              "IPY_MODEL_0f4858a0e47d49e8a12981ff656563b8",
              "IPY_MODEL_7a5429660dbc4215a12196364e67c573",
              "IPY_MODEL_6b81b0ea637f43be8ac781046f41ef17"
            ],
            "layout": "IPY_MODEL_90a0965067844a2b846d877efd76db18"
          }
        },
        "0f4858a0e47d49e8a12981ff656563b8": {
          "model_module": "@jupyter-widgets/controls",
          "model_name": "HTMLModel",
          "model_module_version": "1.5.0",
          "state": {
            "_dom_classes": [],
            "_model_module": "@jupyter-widgets/controls",
            "_model_module_version": "1.5.0",
            "_model_name": "HTMLModel",
            "_view_count": null,
            "_view_module": "@jupyter-widgets/controls",
            "_view_module_version": "1.5.0",
            "_view_name": "HTMLView",
            "description": "",
            "description_tooltip": null,
            "layout": "IPY_MODEL_e489e36134994f2e92207d529142fcb6",
            "placeholder": "​",
            "style": "IPY_MODEL_18692e8179fa47b5ad013ce7a01d95e7",
            "value": "100%"
          }
        },
        "7a5429660dbc4215a12196364e67c573": {
          "model_module": "@jupyter-widgets/controls",
          "model_name": "FloatProgressModel",
          "model_module_version": "1.5.0",
          "state": {
            "_dom_classes": [],
            "_model_module": "@jupyter-widgets/controls",
            "_model_module_version": "1.5.0",
            "_model_name": "FloatProgressModel",
            "_view_count": null,
            "_view_module": "@jupyter-widgets/controls",
            "_view_module_version": "1.5.0",
            "_view_name": "ProgressView",
            "bar_style": "success",
            "description": "",
            "description_tooltip": null,
            "layout": "IPY_MODEL_cf73387019db4164b97fbe9cb12e61b6",
            "max": 9912422,
            "min": 0,
            "orientation": "horizontal",
            "style": "IPY_MODEL_156aff8351f242c7a86b7955dbab6a1f",
            "value": 9912422
          }
        },
        "6b81b0ea637f43be8ac781046f41ef17": {
          "model_module": "@jupyter-widgets/controls",
          "model_name": "HTMLModel",
          "model_module_version": "1.5.0",
          "state": {
            "_dom_classes": [],
            "_model_module": "@jupyter-widgets/controls",
            "_model_module_version": "1.5.0",
            "_model_name": "HTMLModel",
            "_view_count": null,
            "_view_module": "@jupyter-widgets/controls",
            "_view_module_version": "1.5.0",
            "_view_name": "HTMLView",
            "description": "",
            "description_tooltip": null,
            "layout": "IPY_MODEL_0cf9db2db1144f5493f3574b9fcc5d2e",
            "placeholder": "​",
            "style": "IPY_MODEL_cca6a3c69d2b41b288a06172979fc320",
            "value": " 9912422/9912422 [00:00&lt;00:00, 27849440.25it/s]"
          }
        },
        "90a0965067844a2b846d877efd76db18": {
          "model_module": "@jupyter-widgets/base",
          "model_name": "LayoutModel",
          "model_module_version": "1.2.0",
          "state": {
            "_model_module": "@jupyter-widgets/base",
            "_model_module_version": "1.2.0",
            "_model_name": "LayoutModel",
            "_view_count": null,
            "_view_module": "@jupyter-widgets/base",
            "_view_module_version": "1.2.0",
            "_view_name": "LayoutView",
            "align_content": null,
            "align_items": null,
            "align_self": null,
            "border": null,
            "bottom": null,
            "display": null,
            "flex": null,
            "flex_flow": null,
            "grid_area": null,
            "grid_auto_columns": null,
            "grid_auto_flow": null,
            "grid_auto_rows": null,
            "grid_column": null,
            "grid_gap": null,
            "grid_row": null,
            "grid_template_areas": null,
            "grid_template_columns": null,
            "grid_template_rows": null,
            "height": null,
            "justify_content": null,
            "justify_items": null,
            "left": null,
            "margin": null,
            "max_height": null,
            "max_width": null,
            "min_height": null,
            "min_width": null,
            "object_fit": null,
            "object_position": null,
            "order": null,
            "overflow": null,
            "overflow_x": null,
            "overflow_y": null,
            "padding": null,
            "right": null,
            "top": null,
            "visibility": null,
            "width": null
          }
        },
        "e489e36134994f2e92207d529142fcb6": {
          "model_module": "@jupyter-widgets/base",
          "model_name": "LayoutModel",
          "model_module_version": "1.2.0",
          "state": {
            "_model_module": "@jupyter-widgets/base",
            "_model_module_version": "1.2.0",
            "_model_name": "LayoutModel",
            "_view_count": null,
            "_view_module": "@jupyter-widgets/base",
            "_view_module_version": "1.2.0",
            "_view_name": "LayoutView",
            "align_content": null,
            "align_items": null,
            "align_self": null,
            "border": null,
            "bottom": null,
            "display": null,
            "flex": null,
            "flex_flow": null,
            "grid_area": null,
            "grid_auto_columns": null,
            "grid_auto_flow": null,
            "grid_auto_rows": null,
            "grid_column": null,
            "grid_gap": null,
            "grid_row": null,
            "grid_template_areas": null,
            "grid_template_columns": null,
            "grid_template_rows": null,
            "height": null,
            "justify_content": null,
            "justify_items": null,
            "left": null,
            "margin": null,
            "max_height": null,
            "max_width": null,
            "min_height": null,
            "min_width": null,
            "object_fit": null,
            "object_position": null,
            "order": null,
            "overflow": null,
            "overflow_x": null,
            "overflow_y": null,
            "padding": null,
            "right": null,
            "top": null,
            "visibility": null,
            "width": null
          }
        },
        "18692e8179fa47b5ad013ce7a01d95e7": {
          "model_module": "@jupyter-widgets/controls",
          "model_name": "DescriptionStyleModel",
          "model_module_version": "1.5.0",
          "state": {
            "_model_module": "@jupyter-widgets/controls",
            "_model_module_version": "1.5.0",
            "_model_name": "DescriptionStyleModel",
            "_view_count": null,
            "_view_module": "@jupyter-widgets/base",
            "_view_module_version": "1.2.0",
            "_view_name": "StyleView",
            "description_width": ""
          }
        },
        "cf73387019db4164b97fbe9cb12e61b6": {
          "model_module": "@jupyter-widgets/base",
          "model_name": "LayoutModel",
          "model_module_version": "1.2.0",
          "state": {
            "_model_module": "@jupyter-widgets/base",
            "_model_module_version": "1.2.0",
            "_model_name": "LayoutModel",
            "_view_count": null,
            "_view_module": "@jupyter-widgets/base",
            "_view_module_version": "1.2.0",
            "_view_name": "LayoutView",
            "align_content": null,
            "align_items": null,
            "align_self": null,
            "border": null,
            "bottom": null,
            "display": null,
            "flex": null,
            "flex_flow": null,
            "grid_area": null,
            "grid_auto_columns": null,
            "grid_auto_flow": null,
            "grid_auto_rows": null,
            "grid_column": null,
            "grid_gap": null,
            "grid_row": null,
            "grid_template_areas": null,
            "grid_template_columns": null,
            "grid_template_rows": null,
            "height": null,
            "justify_content": null,
            "justify_items": null,
            "left": null,
            "margin": null,
            "max_height": null,
            "max_width": null,
            "min_height": null,
            "min_width": null,
            "object_fit": null,
            "object_position": null,
            "order": null,
            "overflow": null,
            "overflow_x": null,
            "overflow_y": null,
            "padding": null,
            "right": null,
            "top": null,
            "visibility": null,
            "width": null
          }
        },
        "156aff8351f242c7a86b7955dbab6a1f": {
          "model_module": "@jupyter-widgets/controls",
          "model_name": "ProgressStyleModel",
          "model_module_version": "1.5.0",
          "state": {
            "_model_module": "@jupyter-widgets/controls",
            "_model_module_version": "1.5.0",
            "_model_name": "ProgressStyleModel",
            "_view_count": null,
            "_view_module": "@jupyter-widgets/base",
            "_view_module_version": "1.2.0",
            "_view_name": "StyleView",
            "bar_color": null,
            "description_width": ""
          }
        },
        "0cf9db2db1144f5493f3574b9fcc5d2e": {
          "model_module": "@jupyter-widgets/base",
          "model_name": "LayoutModel",
          "model_module_version": "1.2.0",
          "state": {
            "_model_module": "@jupyter-widgets/base",
            "_model_module_version": "1.2.0",
            "_model_name": "LayoutModel",
            "_view_count": null,
            "_view_module": "@jupyter-widgets/base",
            "_view_module_version": "1.2.0",
            "_view_name": "LayoutView",
            "align_content": null,
            "align_items": null,
            "align_self": null,
            "border": null,
            "bottom": null,
            "display": null,
            "flex": null,
            "flex_flow": null,
            "grid_area": null,
            "grid_auto_columns": null,
            "grid_auto_flow": null,
            "grid_auto_rows": null,
            "grid_column": null,
            "grid_gap": null,
            "grid_row": null,
            "grid_template_areas": null,
            "grid_template_columns": null,
            "grid_template_rows": null,
            "height": null,
            "justify_content": null,
            "justify_items": null,
            "left": null,
            "margin": null,
            "max_height": null,
            "max_width": null,
            "min_height": null,
            "min_width": null,
            "object_fit": null,
            "object_position": null,
            "order": null,
            "overflow": null,
            "overflow_x": null,
            "overflow_y": null,
            "padding": null,
            "right": null,
            "top": null,
            "visibility": null,
            "width": null
          }
        },
        "cca6a3c69d2b41b288a06172979fc320": {
          "model_module": "@jupyter-widgets/controls",
          "model_name": "DescriptionStyleModel",
          "model_module_version": "1.5.0",
          "state": {
            "_model_module": "@jupyter-widgets/controls",
            "_model_module_version": "1.5.0",
            "_model_name": "DescriptionStyleModel",
            "_view_count": null,
            "_view_module": "@jupyter-widgets/base",
            "_view_module_version": "1.2.0",
            "_view_name": "StyleView",
            "description_width": ""
          }
        },
        "15010b2a88114e829b7e1059c1b589bb": {
          "model_module": "@jupyter-widgets/controls",
          "model_name": "HBoxModel",
          "model_module_version": "1.5.0",
          "state": {
            "_dom_classes": [],
            "_model_module": "@jupyter-widgets/controls",
            "_model_module_version": "1.5.0",
            "_model_name": "HBoxModel",
            "_view_count": null,
            "_view_module": "@jupyter-widgets/controls",
            "_view_module_version": "1.5.0",
            "_view_name": "HBoxView",
            "box_style": "",
            "children": [
              "IPY_MODEL_38704863e6184f889af69b3ebfd9b317",
              "IPY_MODEL_04e881fa663e4e3ba1e48d84c9dfdef2",
              "IPY_MODEL_dfef3ef3c4864e0495b27ee8c404414f"
            ],
            "layout": "IPY_MODEL_2f90c0b83a84464c9f64467ef4464381"
          }
        },
        "38704863e6184f889af69b3ebfd9b317": {
          "model_module": "@jupyter-widgets/controls",
          "model_name": "HTMLModel",
          "model_module_version": "1.5.0",
          "state": {
            "_dom_classes": [],
            "_model_module": "@jupyter-widgets/controls",
            "_model_module_version": "1.5.0",
            "_model_name": "HTMLModel",
            "_view_count": null,
            "_view_module": "@jupyter-widgets/controls",
            "_view_module_version": "1.5.0",
            "_view_name": "HTMLView",
            "description": "",
            "description_tooltip": null,
            "layout": "IPY_MODEL_6d7f4c5409b243169a2ff3788e4ae422",
            "placeholder": "​",
            "style": "IPY_MODEL_3a4499cc75094e42872da93bd78bdcac",
            "value": "100%"
          }
        },
        "04e881fa663e4e3ba1e48d84c9dfdef2": {
          "model_module": "@jupyter-widgets/controls",
          "model_name": "FloatProgressModel",
          "model_module_version": "1.5.0",
          "state": {
            "_dom_classes": [],
            "_model_module": "@jupyter-widgets/controls",
            "_model_module_version": "1.5.0",
            "_model_name": "FloatProgressModel",
            "_view_count": null,
            "_view_module": "@jupyter-widgets/controls",
            "_view_module_version": "1.5.0",
            "_view_name": "ProgressView",
            "bar_style": "success",
            "description": "",
            "description_tooltip": null,
            "layout": "IPY_MODEL_7afb78b3f166483eaf5ff5e4215b1c8e",
            "max": 28881,
            "min": 0,
            "orientation": "horizontal",
            "style": "IPY_MODEL_76558704a9104b00beae20952bbd8216",
            "value": 28881
          }
        },
        "dfef3ef3c4864e0495b27ee8c404414f": {
          "model_module": "@jupyter-widgets/controls",
          "model_name": "HTMLModel",
          "model_module_version": "1.5.0",
          "state": {
            "_dom_classes": [],
            "_model_module": "@jupyter-widgets/controls",
            "_model_module_version": "1.5.0",
            "_model_name": "HTMLModel",
            "_view_count": null,
            "_view_module": "@jupyter-widgets/controls",
            "_view_module_version": "1.5.0",
            "_view_name": "HTMLView",
            "description": "",
            "description_tooltip": null,
            "layout": "IPY_MODEL_e68a87723d614e2b9b7280fdc92e7aed",
            "placeholder": "​",
            "style": "IPY_MODEL_8d7678e1208c4307a441c0ed0995f2e3",
            "value": " 28881/28881 [00:00&lt;00:00, 838628.50it/s]"
          }
        },
        "2f90c0b83a84464c9f64467ef4464381": {
          "model_module": "@jupyter-widgets/base",
          "model_name": "LayoutModel",
          "model_module_version": "1.2.0",
          "state": {
            "_model_module": "@jupyter-widgets/base",
            "_model_module_version": "1.2.0",
            "_model_name": "LayoutModel",
            "_view_count": null,
            "_view_module": "@jupyter-widgets/base",
            "_view_module_version": "1.2.0",
            "_view_name": "LayoutView",
            "align_content": null,
            "align_items": null,
            "align_self": null,
            "border": null,
            "bottom": null,
            "display": null,
            "flex": null,
            "flex_flow": null,
            "grid_area": null,
            "grid_auto_columns": null,
            "grid_auto_flow": null,
            "grid_auto_rows": null,
            "grid_column": null,
            "grid_gap": null,
            "grid_row": null,
            "grid_template_areas": null,
            "grid_template_columns": null,
            "grid_template_rows": null,
            "height": null,
            "justify_content": null,
            "justify_items": null,
            "left": null,
            "margin": null,
            "max_height": null,
            "max_width": null,
            "min_height": null,
            "min_width": null,
            "object_fit": null,
            "object_position": null,
            "order": null,
            "overflow": null,
            "overflow_x": null,
            "overflow_y": null,
            "padding": null,
            "right": null,
            "top": null,
            "visibility": null,
            "width": null
          }
        },
        "6d7f4c5409b243169a2ff3788e4ae422": {
          "model_module": "@jupyter-widgets/base",
          "model_name": "LayoutModel",
          "model_module_version": "1.2.0",
          "state": {
            "_model_module": "@jupyter-widgets/base",
            "_model_module_version": "1.2.0",
            "_model_name": "LayoutModel",
            "_view_count": null,
            "_view_module": "@jupyter-widgets/base",
            "_view_module_version": "1.2.0",
            "_view_name": "LayoutView",
            "align_content": null,
            "align_items": null,
            "align_self": null,
            "border": null,
            "bottom": null,
            "display": null,
            "flex": null,
            "flex_flow": null,
            "grid_area": null,
            "grid_auto_columns": null,
            "grid_auto_flow": null,
            "grid_auto_rows": null,
            "grid_column": null,
            "grid_gap": null,
            "grid_row": null,
            "grid_template_areas": null,
            "grid_template_columns": null,
            "grid_template_rows": null,
            "height": null,
            "justify_content": null,
            "justify_items": null,
            "left": null,
            "margin": null,
            "max_height": null,
            "max_width": null,
            "min_height": null,
            "min_width": null,
            "object_fit": null,
            "object_position": null,
            "order": null,
            "overflow": null,
            "overflow_x": null,
            "overflow_y": null,
            "padding": null,
            "right": null,
            "top": null,
            "visibility": null,
            "width": null
          }
        },
        "3a4499cc75094e42872da93bd78bdcac": {
          "model_module": "@jupyter-widgets/controls",
          "model_name": "DescriptionStyleModel",
          "model_module_version": "1.5.0",
          "state": {
            "_model_module": "@jupyter-widgets/controls",
            "_model_module_version": "1.5.0",
            "_model_name": "DescriptionStyleModel",
            "_view_count": null,
            "_view_module": "@jupyter-widgets/base",
            "_view_module_version": "1.2.0",
            "_view_name": "StyleView",
            "description_width": ""
          }
        },
        "7afb78b3f166483eaf5ff5e4215b1c8e": {
          "model_module": "@jupyter-widgets/base",
          "model_name": "LayoutModel",
          "model_module_version": "1.2.0",
          "state": {
            "_model_module": "@jupyter-widgets/base",
            "_model_module_version": "1.2.0",
            "_model_name": "LayoutModel",
            "_view_count": null,
            "_view_module": "@jupyter-widgets/base",
            "_view_module_version": "1.2.0",
            "_view_name": "LayoutView",
            "align_content": null,
            "align_items": null,
            "align_self": null,
            "border": null,
            "bottom": null,
            "display": null,
            "flex": null,
            "flex_flow": null,
            "grid_area": null,
            "grid_auto_columns": null,
            "grid_auto_flow": null,
            "grid_auto_rows": null,
            "grid_column": null,
            "grid_gap": null,
            "grid_row": null,
            "grid_template_areas": null,
            "grid_template_columns": null,
            "grid_template_rows": null,
            "height": null,
            "justify_content": null,
            "justify_items": null,
            "left": null,
            "margin": null,
            "max_height": null,
            "max_width": null,
            "min_height": null,
            "min_width": null,
            "object_fit": null,
            "object_position": null,
            "order": null,
            "overflow": null,
            "overflow_x": null,
            "overflow_y": null,
            "padding": null,
            "right": null,
            "top": null,
            "visibility": null,
            "width": null
          }
        },
        "76558704a9104b00beae20952bbd8216": {
          "model_module": "@jupyter-widgets/controls",
          "model_name": "ProgressStyleModel",
          "model_module_version": "1.5.0",
          "state": {
            "_model_module": "@jupyter-widgets/controls",
            "_model_module_version": "1.5.0",
            "_model_name": "ProgressStyleModel",
            "_view_count": null,
            "_view_module": "@jupyter-widgets/base",
            "_view_module_version": "1.2.0",
            "_view_name": "StyleView",
            "bar_color": null,
            "description_width": ""
          }
        },
        "e68a87723d614e2b9b7280fdc92e7aed": {
          "model_module": "@jupyter-widgets/base",
          "model_name": "LayoutModel",
          "model_module_version": "1.2.0",
          "state": {
            "_model_module": "@jupyter-widgets/base",
            "_model_module_version": "1.2.0",
            "_model_name": "LayoutModel",
            "_view_count": null,
            "_view_module": "@jupyter-widgets/base",
            "_view_module_version": "1.2.0",
            "_view_name": "LayoutView",
            "align_content": null,
            "align_items": null,
            "align_self": null,
            "border": null,
            "bottom": null,
            "display": null,
            "flex": null,
            "flex_flow": null,
            "grid_area": null,
            "grid_auto_columns": null,
            "grid_auto_flow": null,
            "grid_auto_rows": null,
            "grid_column": null,
            "grid_gap": null,
            "grid_row": null,
            "grid_template_areas": null,
            "grid_template_columns": null,
            "grid_template_rows": null,
            "height": null,
            "justify_content": null,
            "justify_items": null,
            "left": null,
            "margin": null,
            "max_height": null,
            "max_width": null,
            "min_height": null,
            "min_width": null,
            "object_fit": null,
            "object_position": null,
            "order": null,
            "overflow": null,
            "overflow_x": null,
            "overflow_y": null,
            "padding": null,
            "right": null,
            "top": null,
            "visibility": null,
            "width": null
          }
        },
        "8d7678e1208c4307a441c0ed0995f2e3": {
          "model_module": "@jupyter-widgets/controls",
          "model_name": "DescriptionStyleModel",
          "model_module_version": "1.5.0",
          "state": {
            "_model_module": "@jupyter-widgets/controls",
            "_model_module_version": "1.5.0",
            "_model_name": "DescriptionStyleModel",
            "_view_count": null,
            "_view_module": "@jupyter-widgets/base",
            "_view_module_version": "1.2.0",
            "_view_name": "StyleView",
            "description_width": ""
          }
        },
        "62b30682ed354320a879b43d5ffcf0c7": {
          "model_module": "@jupyter-widgets/controls",
          "model_name": "HBoxModel",
          "model_module_version": "1.5.0",
          "state": {
            "_dom_classes": [],
            "_model_module": "@jupyter-widgets/controls",
            "_model_module_version": "1.5.0",
            "_model_name": "HBoxModel",
            "_view_count": null,
            "_view_module": "@jupyter-widgets/controls",
            "_view_module_version": "1.5.0",
            "_view_name": "HBoxView",
            "box_style": "",
            "children": [
              "IPY_MODEL_fb2df2843bcb49d18c8bfaf1b647b8d8",
              "IPY_MODEL_342e25d9b45442548e678a43db4d07b2",
              "IPY_MODEL_09447a4cfbc64123a83f52905f9f4c3d"
            ],
            "layout": "IPY_MODEL_465d344ae0d449fc96328472c199927d"
          }
        },
        "fb2df2843bcb49d18c8bfaf1b647b8d8": {
          "model_module": "@jupyter-widgets/controls",
          "model_name": "HTMLModel",
          "model_module_version": "1.5.0",
          "state": {
            "_dom_classes": [],
            "_model_module": "@jupyter-widgets/controls",
            "_model_module_version": "1.5.0",
            "_model_name": "HTMLModel",
            "_view_count": null,
            "_view_module": "@jupyter-widgets/controls",
            "_view_module_version": "1.5.0",
            "_view_name": "HTMLView",
            "description": "",
            "description_tooltip": null,
            "layout": "IPY_MODEL_ca8f5b0132b94437bd986790a361c5fe",
            "placeholder": "​",
            "style": "IPY_MODEL_5dce37aee833456db87a512e32681108",
            "value": "100%"
          }
        },
        "342e25d9b45442548e678a43db4d07b2": {
          "model_module": "@jupyter-widgets/controls",
          "model_name": "FloatProgressModel",
          "model_module_version": "1.5.0",
          "state": {
            "_dom_classes": [],
            "_model_module": "@jupyter-widgets/controls",
            "_model_module_version": "1.5.0",
            "_model_name": "FloatProgressModel",
            "_view_count": null,
            "_view_module": "@jupyter-widgets/controls",
            "_view_module_version": "1.5.0",
            "_view_name": "ProgressView",
            "bar_style": "success",
            "description": "",
            "description_tooltip": null,
            "layout": "IPY_MODEL_e45de0449c8a4d0dbd61463cb8ac3bf9",
            "max": 1648877,
            "min": 0,
            "orientation": "horizontal",
            "style": "IPY_MODEL_ca1219a9c56d4e889e548dfbff03fff2",
            "value": 1648877
          }
        },
        "09447a4cfbc64123a83f52905f9f4c3d": {
          "model_module": "@jupyter-widgets/controls",
          "model_name": "HTMLModel",
          "model_module_version": "1.5.0",
          "state": {
            "_dom_classes": [],
            "_model_module": "@jupyter-widgets/controls",
            "_model_module_version": "1.5.0",
            "_model_name": "HTMLModel",
            "_view_count": null,
            "_view_module": "@jupyter-widgets/controls",
            "_view_module_version": "1.5.0",
            "_view_name": "HTMLView",
            "description": "",
            "description_tooltip": null,
            "layout": "IPY_MODEL_f704b8f94308439ca99b9d4f29c678da",
            "placeholder": "​",
            "style": "IPY_MODEL_b7d8f495b2144c9eaf438b978ea2e7cb",
            "value": " 1648877/1648877 [00:00&lt;00:00, 37550652.35it/s]"
          }
        },
        "465d344ae0d449fc96328472c199927d": {
          "model_module": "@jupyter-widgets/base",
          "model_name": "LayoutModel",
          "model_module_version": "1.2.0",
          "state": {
            "_model_module": "@jupyter-widgets/base",
            "_model_module_version": "1.2.0",
            "_model_name": "LayoutModel",
            "_view_count": null,
            "_view_module": "@jupyter-widgets/base",
            "_view_module_version": "1.2.0",
            "_view_name": "LayoutView",
            "align_content": null,
            "align_items": null,
            "align_self": null,
            "border": null,
            "bottom": null,
            "display": null,
            "flex": null,
            "flex_flow": null,
            "grid_area": null,
            "grid_auto_columns": null,
            "grid_auto_flow": null,
            "grid_auto_rows": null,
            "grid_column": null,
            "grid_gap": null,
            "grid_row": null,
            "grid_template_areas": null,
            "grid_template_columns": null,
            "grid_template_rows": null,
            "height": null,
            "justify_content": null,
            "justify_items": null,
            "left": null,
            "margin": null,
            "max_height": null,
            "max_width": null,
            "min_height": null,
            "min_width": null,
            "object_fit": null,
            "object_position": null,
            "order": null,
            "overflow": null,
            "overflow_x": null,
            "overflow_y": null,
            "padding": null,
            "right": null,
            "top": null,
            "visibility": null,
            "width": null
          }
        },
        "ca8f5b0132b94437bd986790a361c5fe": {
          "model_module": "@jupyter-widgets/base",
          "model_name": "LayoutModel",
          "model_module_version": "1.2.0",
          "state": {
            "_model_module": "@jupyter-widgets/base",
            "_model_module_version": "1.2.0",
            "_model_name": "LayoutModel",
            "_view_count": null,
            "_view_module": "@jupyter-widgets/base",
            "_view_module_version": "1.2.0",
            "_view_name": "LayoutView",
            "align_content": null,
            "align_items": null,
            "align_self": null,
            "border": null,
            "bottom": null,
            "display": null,
            "flex": null,
            "flex_flow": null,
            "grid_area": null,
            "grid_auto_columns": null,
            "grid_auto_flow": null,
            "grid_auto_rows": null,
            "grid_column": null,
            "grid_gap": null,
            "grid_row": null,
            "grid_template_areas": null,
            "grid_template_columns": null,
            "grid_template_rows": null,
            "height": null,
            "justify_content": null,
            "justify_items": null,
            "left": null,
            "margin": null,
            "max_height": null,
            "max_width": null,
            "min_height": null,
            "min_width": null,
            "object_fit": null,
            "object_position": null,
            "order": null,
            "overflow": null,
            "overflow_x": null,
            "overflow_y": null,
            "padding": null,
            "right": null,
            "top": null,
            "visibility": null,
            "width": null
          }
        },
        "5dce37aee833456db87a512e32681108": {
          "model_module": "@jupyter-widgets/controls",
          "model_name": "DescriptionStyleModel",
          "model_module_version": "1.5.0",
          "state": {
            "_model_module": "@jupyter-widgets/controls",
            "_model_module_version": "1.5.0",
            "_model_name": "DescriptionStyleModel",
            "_view_count": null,
            "_view_module": "@jupyter-widgets/base",
            "_view_module_version": "1.2.0",
            "_view_name": "StyleView",
            "description_width": ""
          }
        },
        "e45de0449c8a4d0dbd61463cb8ac3bf9": {
          "model_module": "@jupyter-widgets/base",
          "model_name": "LayoutModel",
          "model_module_version": "1.2.0",
          "state": {
            "_model_module": "@jupyter-widgets/base",
            "_model_module_version": "1.2.0",
            "_model_name": "LayoutModel",
            "_view_count": null,
            "_view_module": "@jupyter-widgets/base",
            "_view_module_version": "1.2.0",
            "_view_name": "LayoutView",
            "align_content": null,
            "align_items": null,
            "align_self": null,
            "border": null,
            "bottom": null,
            "display": null,
            "flex": null,
            "flex_flow": null,
            "grid_area": null,
            "grid_auto_columns": null,
            "grid_auto_flow": null,
            "grid_auto_rows": null,
            "grid_column": null,
            "grid_gap": null,
            "grid_row": null,
            "grid_template_areas": null,
            "grid_template_columns": null,
            "grid_template_rows": null,
            "height": null,
            "justify_content": null,
            "justify_items": null,
            "left": null,
            "margin": null,
            "max_height": null,
            "max_width": null,
            "min_height": null,
            "min_width": null,
            "object_fit": null,
            "object_position": null,
            "order": null,
            "overflow": null,
            "overflow_x": null,
            "overflow_y": null,
            "padding": null,
            "right": null,
            "top": null,
            "visibility": null,
            "width": null
          }
        },
        "ca1219a9c56d4e889e548dfbff03fff2": {
          "model_module": "@jupyter-widgets/controls",
          "model_name": "ProgressStyleModel",
          "model_module_version": "1.5.0",
          "state": {
            "_model_module": "@jupyter-widgets/controls",
            "_model_module_version": "1.5.0",
            "_model_name": "ProgressStyleModel",
            "_view_count": null,
            "_view_module": "@jupyter-widgets/base",
            "_view_module_version": "1.2.0",
            "_view_name": "StyleView",
            "bar_color": null,
            "description_width": ""
          }
        },
        "f704b8f94308439ca99b9d4f29c678da": {
          "model_module": "@jupyter-widgets/base",
          "model_name": "LayoutModel",
          "model_module_version": "1.2.0",
          "state": {
            "_model_module": "@jupyter-widgets/base",
            "_model_module_version": "1.2.0",
            "_model_name": "LayoutModel",
            "_view_count": null,
            "_view_module": "@jupyter-widgets/base",
            "_view_module_version": "1.2.0",
            "_view_name": "LayoutView",
            "align_content": null,
            "align_items": null,
            "align_self": null,
            "border": null,
            "bottom": null,
            "display": null,
            "flex": null,
            "flex_flow": null,
            "grid_area": null,
            "grid_auto_columns": null,
            "grid_auto_flow": null,
            "grid_auto_rows": null,
            "grid_column": null,
            "grid_gap": null,
            "grid_row": null,
            "grid_template_areas": null,
            "grid_template_columns": null,
            "grid_template_rows": null,
            "height": null,
            "justify_content": null,
            "justify_items": null,
            "left": null,
            "margin": null,
            "max_height": null,
            "max_width": null,
            "min_height": null,
            "min_width": null,
            "object_fit": null,
            "object_position": null,
            "order": null,
            "overflow": null,
            "overflow_x": null,
            "overflow_y": null,
            "padding": null,
            "right": null,
            "top": null,
            "visibility": null,
            "width": null
          }
        },
        "b7d8f495b2144c9eaf438b978ea2e7cb": {
          "model_module": "@jupyter-widgets/controls",
          "model_name": "DescriptionStyleModel",
          "model_module_version": "1.5.0",
          "state": {
            "_model_module": "@jupyter-widgets/controls",
            "_model_module_version": "1.5.0",
            "_model_name": "DescriptionStyleModel",
            "_view_count": null,
            "_view_module": "@jupyter-widgets/base",
            "_view_module_version": "1.2.0",
            "_view_name": "StyleView",
            "description_width": ""
          }
        },
        "4537cf20d1204d468440ce3b1485cc75": {
          "model_module": "@jupyter-widgets/controls",
          "model_name": "HBoxModel",
          "model_module_version": "1.5.0",
          "state": {
            "_dom_classes": [],
            "_model_module": "@jupyter-widgets/controls",
            "_model_module_version": "1.5.0",
            "_model_name": "HBoxModel",
            "_view_count": null,
            "_view_module": "@jupyter-widgets/controls",
            "_view_module_version": "1.5.0",
            "_view_name": "HBoxView",
            "box_style": "",
            "children": [
              "IPY_MODEL_3e0ad50e2b214e5cbb71d3e424f74a0c",
              "IPY_MODEL_a0c6b6b726204b14902760a98cc30c83",
              "IPY_MODEL_8b7514af042f40f8a970362f44c837bc"
            ],
            "layout": "IPY_MODEL_0a032420142a431ea192ed954ed09e5e"
          }
        },
        "3e0ad50e2b214e5cbb71d3e424f74a0c": {
          "model_module": "@jupyter-widgets/controls",
          "model_name": "HTMLModel",
          "model_module_version": "1.5.0",
          "state": {
            "_dom_classes": [],
            "_model_module": "@jupyter-widgets/controls",
            "_model_module_version": "1.5.0",
            "_model_name": "HTMLModel",
            "_view_count": null,
            "_view_module": "@jupyter-widgets/controls",
            "_view_module_version": "1.5.0",
            "_view_name": "HTMLView",
            "description": "",
            "description_tooltip": null,
            "layout": "IPY_MODEL_4600dde0b0f6446da43f65ec737b251c",
            "placeholder": "​",
            "style": "IPY_MODEL_d04420a67e42468abcf96c284f6b31b8",
            "value": "100%"
          }
        },
        "a0c6b6b726204b14902760a98cc30c83": {
          "model_module": "@jupyter-widgets/controls",
          "model_name": "FloatProgressModel",
          "model_module_version": "1.5.0",
          "state": {
            "_dom_classes": [],
            "_model_module": "@jupyter-widgets/controls",
            "_model_module_version": "1.5.0",
            "_model_name": "FloatProgressModel",
            "_view_count": null,
            "_view_module": "@jupyter-widgets/controls",
            "_view_module_version": "1.5.0",
            "_view_name": "ProgressView",
            "bar_style": "success",
            "description": "",
            "description_tooltip": null,
            "layout": "IPY_MODEL_38f051e2b3a94a6290256a30a0242898",
            "max": 4542,
            "min": 0,
            "orientation": "horizontal",
            "style": "IPY_MODEL_6f7601aab0dc48e0947fcdbac7e07315",
            "value": 4542
          }
        },
        "8b7514af042f40f8a970362f44c837bc": {
          "model_module": "@jupyter-widgets/controls",
          "model_name": "HTMLModel",
          "model_module_version": "1.5.0",
          "state": {
            "_dom_classes": [],
            "_model_module": "@jupyter-widgets/controls",
            "_model_module_version": "1.5.0",
            "_model_name": "HTMLModel",
            "_view_count": null,
            "_view_module": "@jupyter-widgets/controls",
            "_view_module_version": "1.5.0",
            "_view_name": "HTMLView",
            "description": "",
            "description_tooltip": null,
            "layout": "IPY_MODEL_c4e8f9c50dd94359a69821ea3b829b2a",
            "placeholder": "​",
            "style": "IPY_MODEL_4ce6b0fcd2c94e628926ea3d05e95889",
            "value": " 4542/4542 [00:00&lt;00:00, 115977.19it/s]"
          }
        },
        "0a032420142a431ea192ed954ed09e5e": {
          "model_module": "@jupyter-widgets/base",
          "model_name": "LayoutModel",
          "model_module_version": "1.2.0",
          "state": {
            "_model_module": "@jupyter-widgets/base",
            "_model_module_version": "1.2.0",
            "_model_name": "LayoutModel",
            "_view_count": null,
            "_view_module": "@jupyter-widgets/base",
            "_view_module_version": "1.2.0",
            "_view_name": "LayoutView",
            "align_content": null,
            "align_items": null,
            "align_self": null,
            "border": null,
            "bottom": null,
            "display": null,
            "flex": null,
            "flex_flow": null,
            "grid_area": null,
            "grid_auto_columns": null,
            "grid_auto_flow": null,
            "grid_auto_rows": null,
            "grid_column": null,
            "grid_gap": null,
            "grid_row": null,
            "grid_template_areas": null,
            "grid_template_columns": null,
            "grid_template_rows": null,
            "height": null,
            "justify_content": null,
            "justify_items": null,
            "left": null,
            "margin": null,
            "max_height": null,
            "max_width": null,
            "min_height": null,
            "min_width": null,
            "object_fit": null,
            "object_position": null,
            "order": null,
            "overflow": null,
            "overflow_x": null,
            "overflow_y": null,
            "padding": null,
            "right": null,
            "top": null,
            "visibility": null,
            "width": null
          }
        },
        "4600dde0b0f6446da43f65ec737b251c": {
          "model_module": "@jupyter-widgets/base",
          "model_name": "LayoutModel",
          "model_module_version": "1.2.0",
          "state": {
            "_model_module": "@jupyter-widgets/base",
            "_model_module_version": "1.2.0",
            "_model_name": "LayoutModel",
            "_view_count": null,
            "_view_module": "@jupyter-widgets/base",
            "_view_module_version": "1.2.0",
            "_view_name": "LayoutView",
            "align_content": null,
            "align_items": null,
            "align_self": null,
            "border": null,
            "bottom": null,
            "display": null,
            "flex": null,
            "flex_flow": null,
            "grid_area": null,
            "grid_auto_columns": null,
            "grid_auto_flow": null,
            "grid_auto_rows": null,
            "grid_column": null,
            "grid_gap": null,
            "grid_row": null,
            "grid_template_areas": null,
            "grid_template_columns": null,
            "grid_template_rows": null,
            "height": null,
            "justify_content": null,
            "justify_items": null,
            "left": null,
            "margin": null,
            "max_height": null,
            "max_width": null,
            "min_height": null,
            "min_width": null,
            "object_fit": null,
            "object_position": null,
            "order": null,
            "overflow": null,
            "overflow_x": null,
            "overflow_y": null,
            "padding": null,
            "right": null,
            "top": null,
            "visibility": null,
            "width": null
          }
        },
        "d04420a67e42468abcf96c284f6b31b8": {
          "model_module": "@jupyter-widgets/controls",
          "model_name": "DescriptionStyleModel",
          "model_module_version": "1.5.0",
          "state": {
            "_model_module": "@jupyter-widgets/controls",
            "_model_module_version": "1.5.0",
            "_model_name": "DescriptionStyleModel",
            "_view_count": null,
            "_view_module": "@jupyter-widgets/base",
            "_view_module_version": "1.2.0",
            "_view_name": "StyleView",
            "description_width": ""
          }
        },
        "38f051e2b3a94a6290256a30a0242898": {
          "model_module": "@jupyter-widgets/base",
          "model_name": "LayoutModel",
          "model_module_version": "1.2.0",
          "state": {
            "_model_module": "@jupyter-widgets/base",
            "_model_module_version": "1.2.0",
            "_model_name": "LayoutModel",
            "_view_count": null,
            "_view_module": "@jupyter-widgets/base",
            "_view_module_version": "1.2.0",
            "_view_name": "LayoutView",
            "align_content": null,
            "align_items": null,
            "align_self": null,
            "border": null,
            "bottom": null,
            "display": null,
            "flex": null,
            "flex_flow": null,
            "grid_area": null,
            "grid_auto_columns": null,
            "grid_auto_flow": null,
            "grid_auto_rows": null,
            "grid_column": null,
            "grid_gap": null,
            "grid_row": null,
            "grid_template_areas": null,
            "grid_template_columns": null,
            "grid_template_rows": null,
            "height": null,
            "justify_content": null,
            "justify_items": null,
            "left": null,
            "margin": null,
            "max_height": null,
            "max_width": null,
            "min_height": null,
            "min_width": null,
            "object_fit": null,
            "object_position": null,
            "order": null,
            "overflow": null,
            "overflow_x": null,
            "overflow_y": null,
            "padding": null,
            "right": null,
            "top": null,
            "visibility": null,
            "width": null
          }
        },
        "6f7601aab0dc48e0947fcdbac7e07315": {
          "model_module": "@jupyter-widgets/controls",
          "model_name": "ProgressStyleModel",
          "model_module_version": "1.5.0",
          "state": {
            "_model_module": "@jupyter-widgets/controls",
            "_model_module_version": "1.5.0",
            "_model_name": "ProgressStyleModel",
            "_view_count": null,
            "_view_module": "@jupyter-widgets/base",
            "_view_module_version": "1.2.0",
            "_view_name": "StyleView",
            "bar_color": null,
            "description_width": ""
          }
        },
        "c4e8f9c50dd94359a69821ea3b829b2a": {
          "model_module": "@jupyter-widgets/base",
          "model_name": "LayoutModel",
          "model_module_version": "1.2.0",
          "state": {
            "_model_module": "@jupyter-widgets/base",
            "_model_module_version": "1.2.0",
            "_model_name": "LayoutModel",
            "_view_count": null,
            "_view_module": "@jupyter-widgets/base",
            "_view_module_version": "1.2.0",
            "_view_name": "LayoutView",
            "align_content": null,
            "align_items": null,
            "align_self": null,
            "border": null,
            "bottom": null,
            "display": null,
            "flex": null,
            "flex_flow": null,
            "grid_area": null,
            "grid_auto_columns": null,
            "grid_auto_flow": null,
            "grid_auto_rows": null,
            "grid_column": null,
            "grid_gap": null,
            "grid_row": null,
            "grid_template_areas": null,
            "grid_template_columns": null,
            "grid_template_rows": null,
            "height": null,
            "justify_content": null,
            "justify_items": null,
            "left": null,
            "margin": null,
            "max_height": null,
            "max_width": null,
            "min_height": null,
            "min_width": null,
            "object_fit": null,
            "object_position": null,
            "order": null,
            "overflow": null,
            "overflow_x": null,
            "overflow_y": null,
            "padding": null,
            "right": null,
            "top": null,
            "visibility": null,
            "width": null
          }
        },
        "4ce6b0fcd2c94e628926ea3d05e95889": {
          "model_module": "@jupyter-widgets/controls",
          "model_name": "DescriptionStyleModel",
          "model_module_version": "1.5.0",
          "state": {
            "_model_module": "@jupyter-widgets/controls",
            "_model_module_version": "1.5.0",
            "_model_name": "DescriptionStyleModel",
            "_view_count": null,
            "_view_module": "@jupyter-widgets/base",
            "_view_module_version": "1.2.0",
            "_view_name": "StyleView",
            "description_width": ""
          }
        }
      }
    },
    "accelerator": "GPU"
  },
  "nbformat": 4,
  "nbformat_minor": 0
}